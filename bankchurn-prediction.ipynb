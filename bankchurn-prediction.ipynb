{
 "cells": [
  {
   "cell_type": "code",
   "execution_count": 1,
   "id": "db964fc0",
   "metadata": {
    "execution": {
     "iopub.execute_input": "2023-07-05T14:26:51.352251Z",
     "iopub.status.busy": "2023-07-05T14:26:51.351881Z",
     "iopub.status.idle": "2023-07-05T14:26:52.764875Z",
     "shell.execute_reply": "2023-07-05T14:26:52.763477Z"
    },
    "papermill": {
     "duration": 1.428036,
     "end_time": "2023-07-05T14:26:52.767498",
     "exception": false,
     "start_time": "2023-07-05T14:26:51.339462",
     "status": "completed"
    },
    "tags": []
   },
   "outputs": [],
   "source": [
    "import numpy as np\n",
    "import pandas as pd\n",
    "import seaborn as sns\n",
    "import matplotlib.pyplot as plt\n"
   ]
  },
  {
   "cell_type": "markdown",
   "id": "4fe3c367",
   "metadata": {
    "papermill": {
     "duration": 0.009991,
     "end_time": "2023-07-05T14:26:52.788165",
     "exception": false,
     "start_time": "2023-07-05T14:26:52.778174",
     "status": "completed"
    },
    "tags": []
   },
   "source": [
    "# Reading the Dataset"
   ]
  },
  {
   "cell_type": "code",
   "execution_count": 2,
   "id": "6f7e767f",
   "metadata": {
    "execution": {
     "iopub.execute_input": "2023-07-05T14:26:52.810925Z",
     "iopub.status.busy": "2023-07-05T14:26:52.810000Z",
     "iopub.status.idle": "2023-07-05T14:26:52.888591Z",
     "shell.execute_reply": "2023-07-05T14:26:52.887569Z"
    },
    "papermill": {
     "duration": 0.092597,
     "end_time": "2023-07-05T14:26:52.890992",
     "exception": false,
     "start_time": "2023-07-05T14:26:52.798395",
     "status": "completed"
    },
    "tags": []
   },
   "outputs": [
    {
     "data": {
      "text/html": [
       "<div>\n",
       "<style scoped>\n",
       "    .dataframe tbody tr th:only-of-type {\n",
       "        vertical-align: middle;\n",
       "    }\n",
       "\n",
       "    .dataframe tbody tr th {\n",
       "        vertical-align: top;\n",
       "    }\n",
       "\n",
       "    .dataframe thead th {\n",
       "        text-align: right;\n",
       "    }\n",
       "</style>\n",
       "<table border=\"1\" class=\"dataframe\">\n",
       "  <thead>\n",
       "    <tr style=\"text-align: right;\">\n",
       "      <th></th>\n",
       "      <th>RowNumber</th>\n",
       "      <th>CustomerId</th>\n",
       "      <th>Surname</th>\n",
       "      <th>CreditScore</th>\n",
       "      <th>Geography</th>\n",
       "      <th>Gender</th>\n",
       "      <th>Age</th>\n",
       "      <th>Tenure</th>\n",
       "      <th>Balance</th>\n",
       "      <th>NumOfProducts</th>\n",
       "      <th>HasCrCard</th>\n",
       "      <th>IsActiveMember</th>\n",
       "      <th>EstimatedSalary</th>\n",
       "      <th>Exited</th>\n",
       "    </tr>\n",
       "  </thead>\n",
       "  <tbody>\n",
       "    <tr>\n",
       "      <th>0</th>\n",
       "      <td>1</td>\n",
       "      <td>15634602</td>\n",
       "      <td>Hargrave</td>\n",
       "      <td>619</td>\n",
       "      <td>France</td>\n",
       "      <td>Female</td>\n",
       "      <td>42</td>\n",
       "      <td>2</td>\n",
       "      <td>0.00</td>\n",
       "      <td>1</td>\n",
       "      <td>1</td>\n",
       "      <td>1</td>\n",
       "      <td>101348.88</td>\n",
       "      <td>1</td>\n",
       "    </tr>\n",
       "    <tr>\n",
       "      <th>1</th>\n",
       "      <td>2</td>\n",
       "      <td>15647311</td>\n",
       "      <td>Hill</td>\n",
       "      <td>608</td>\n",
       "      <td>Spain</td>\n",
       "      <td>Female</td>\n",
       "      <td>41</td>\n",
       "      <td>1</td>\n",
       "      <td>83807.86</td>\n",
       "      <td>1</td>\n",
       "      <td>0</td>\n",
       "      <td>1</td>\n",
       "      <td>112542.58</td>\n",
       "      <td>0</td>\n",
       "    </tr>\n",
       "    <tr>\n",
       "      <th>2</th>\n",
       "      <td>3</td>\n",
       "      <td>15619304</td>\n",
       "      <td>Onio</td>\n",
       "      <td>502</td>\n",
       "      <td>France</td>\n",
       "      <td>Female</td>\n",
       "      <td>42</td>\n",
       "      <td>8</td>\n",
       "      <td>159660.80</td>\n",
       "      <td>3</td>\n",
       "      <td>1</td>\n",
       "      <td>0</td>\n",
       "      <td>113931.57</td>\n",
       "      <td>1</td>\n",
       "    </tr>\n",
       "    <tr>\n",
       "      <th>3</th>\n",
       "      <td>4</td>\n",
       "      <td>15701354</td>\n",
       "      <td>Boni</td>\n",
       "      <td>699</td>\n",
       "      <td>France</td>\n",
       "      <td>Female</td>\n",
       "      <td>39</td>\n",
       "      <td>1</td>\n",
       "      <td>0.00</td>\n",
       "      <td>2</td>\n",
       "      <td>0</td>\n",
       "      <td>0</td>\n",
       "      <td>93826.63</td>\n",
       "      <td>0</td>\n",
       "    </tr>\n",
       "    <tr>\n",
       "      <th>4</th>\n",
       "      <td>5</td>\n",
       "      <td>15737888</td>\n",
       "      <td>Mitchell</td>\n",
       "      <td>850</td>\n",
       "      <td>Spain</td>\n",
       "      <td>Female</td>\n",
       "      <td>43</td>\n",
       "      <td>2</td>\n",
       "      <td>125510.82</td>\n",
       "      <td>1</td>\n",
       "      <td>1</td>\n",
       "      <td>1</td>\n",
       "      <td>79084.10</td>\n",
       "      <td>0</td>\n",
       "    </tr>\n",
       "  </tbody>\n",
       "</table>\n",
       "</div>"
      ],
      "text/plain": [
       "   RowNumber  CustomerId   Surname  CreditScore Geography  Gender  Age  \\\n",
       "0          1    15634602  Hargrave          619    France  Female   42   \n",
       "1          2    15647311      Hill          608     Spain  Female   41   \n",
       "2          3    15619304      Onio          502    France  Female   42   \n",
       "3          4    15701354      Boni          699    France  Female   39   \n",
       "4          5    15737888  Mitchell          850     Spain  Female   43   \n",
       "\n",
       "   Tenure    Balance  NumOfProducts  HasCrCard  IsActiveMember  \\\n",
       "0       2       0.00              1          1               1   \n",
       "1       1   83807.86              1          0               1   \n",
       "2       8  159660.80              3          1               0   \n",
       "3       1       0.00              2          0               0   \n",
       "4       2  125510.82              1          1               1   \n",
       "\n",
       "   EstimatedSalary  Exited  \n",
       "0        101348.88       1  \n",
       "1        112542.58       0  \n",
       "2        113931.57       1  \n",
       "3         93826.63       0  \n",
       "4         79084.10       0  "
      ]
     },
     "execution_count": 2,
     "metadata": {},
     "output_type": "execute_result"
    }
   ],
   "source": [
    "data = pd.read_csv('/kaggle/input/bankchurn/Churn_Modelling.csv')\n",
    "data.head()"
   ]
  },
  {
   "cell_type": "code",
   "execution_count": 3,
   "id": "4621df62",
   "metadata": {
    "execution": {
     "iopub.execute_input": "2023-07-05T14:26:52.914163Z",
     "iopub.status.busy": "2023-07-05T14:26:52.913733Z",
     "iopub.status.idle": "2023-07-05T14:26:52.920229Z",
     "shell.execute_reply": "2023-07-05T14:26:52.919215Z"
    },
    "papermill": {
     "duration": 0.020636,
     "end_time": "2023-07-05T14:26:52.922388",
     "exception": false,
     "start_time": "2023-07-05T14:26:52.901752",
     "status": "completed"
    },
    "tags": []
   },
   "outputs": [
    {
     "data": {
      "text/plain": [
       "(10000, 14)"
      ]
     },
     "execution_count": 3,
     "metadata": {},
     "output_type": "execute_result"
    }
   ],
   "source": [
    "data.shape"
   ]
  },
  {
   "cell_type": "code",
   "execution_count": 4,
   "id": "b3f714c8",
   "metadata": {
    "execution": {
     "iopub.execute_input": "2023-07-05T14:26:52.945685Z",
     "iopub.status.busy": "2023-07-05T14:26:52.945292Z",
     "iopub.status.idle": "2023-07-05T14:26:52.976306Z",
     "shell.execute_reply": "2023-07-05T14:26:52.975229Z"
    },
    "papermill": {
     "duration": 0.045552,
     "end_time": "2023-07-05T14:26:52.978799",
     "exception": false,
     "start_time": "2023-07-05T14:26:52.933247",
     "status": "completed"
    },
    "tags": []
   },
   "outputs": [
    {
     "name": "stdout",
     "output_type": "stream",
     "text": [
      "<class 'pandas.core.frame.DataFrame'>\n",
      "RangeIndex: 10000 entries, 0 to 9999\n",
      "Data columns (total 14 columns):\n",
      " #   Column           Non-Null Count  Dtype  \n",
      "---  ------           --------------  -----  \n",
      " 0   RowNumber        10000 non-null  int64  \n",
      " 1   CustomerId       10000 non-null  int64  \n",
      " 2   Surname          10000 non-null  object \n",
      " 3   CreditScore      10000 non-null  int64  \n",
      " 4   Geography        10000 non-null  object \n",
      " 5   Gender           10000 non-null  object \n",
      " 6   Age              10000 non-null  int64  \n",
      " 7   Tenure           10000 non-null  int64  \n",
      " 8   Balance          10000 non-null  float64\n",
      " 9   NumOfProducts    10000 non-null  int64  \n",
      " 10  HasCrCard        10000 non-null  int64  \n",
      " 11  IsActiveMember   10000 non-null  int64  \n",
      " 12  EstimatedSalary  10000 non-null  float64\n",
      " 13  Exited           10000 non-null  int64  \n",
      "dtypes: float64(2), int64(9), object(3)\n",
      "memory usage: 1.1+ MB\n"
     ]
    }
   ],
   "source": [
    "data.info()"
   ]
  },
  {
   "cell_type": "code",
   "execution_count": 5,
   "id": "fbdcb6d5",
   "metadata": {
    "execution": {
     "iopub.execute_input": "2023-07-05T14:26:53.002744Z",
     "iopub.status.busy": "2023-07-05T14:26:53.002034Z",
     "iopub.status.idle": "2023-07-05T14:26:53.047666Z",
     "shell.execute_reply": "2023-07-05T14:26:53.046549Z"
    },
    "papermill": {
     "duration": 0.060052,
     "end_time": "2023-07-05T14:26:53.049941",
     "exception": false,
     "start_time": "2023-07-05T14:26:52.989889",
     "status": "completed"
    },
    "tags": []
   },
   "outputs": [
    {
     "data": {
      "text/html": [
       "<div>\n",
       "<style scoped>\n",
       "    .dataframe tbody tr th:only-of-type {\n",
       "        vertical-align: middle;\n",
       "    }\n",
       "\n",
       "    .dataframe tbody tr th {\n",
       "        vertical-align: top;\n",
       "    }\n",
       "\n",
       "    .dataframe thead th {\n",
       "        text-align: right;\n",
       "    }\n",
       "</style>\n",
       "<table border=\"1\" class=\"dataframe\">\n",
       "  <thead>\n",
       "    <tr style=\"text-align: right;\">\n",
       "      <th></th>\n",
       "      <th>RowNumber</th>\n",
       "      <th>CustomerId</th>\n",
       "      <th>CreditScore</th>\n",
       "      <th>Age</th>\n",
       "      <th>Tenure</th>\n",
       "      <th>Balance</th>\n",
       "      <th>NumOfProducts</th>\n",
       "      <th>HasCrCard</th>\n",
       "      <th>IsActiveMember</th>\n",
       "      <th>EstimatedSalary</th>\n",
       "      <th>Exited</th>\n",
       "    </tr>\n",
       "  </thead>\n",
       "  <tbody>\n",
       "    <tr>\n",
       "      <th>count</th>\n",
       "      <td>10000.00000</td>\n",
       "      <td>1.000000e+04</td>\n",
       "      <td>10000.000000</td>\n",
       "      <td>10000.000000</td>\n",
       "      <td>10000.000000</td>\n",
       "      <td>10000.000000</td>\n",
       "      <td>10000.000000</td>\n",
       "      <td>10000.00000</td>\n",
       "      <td>10000.000000</td>\n",
       "      <td>10000.000000</td>\n",
       "      <td>10000.000000</td>\n",
       "    </tr>\n",
       "    <tr>\n",
       "      <th>mean</th>\n",
       "      <td>5000.50000</td>\n",
       "      <td>1.569094e+07</td>\n",
       "      <td>650.528800</td>\n",
       "      <td>38.921800</td>\n",
       "      <td>5.012800</td>\n",
       "      <td>76485.889288</td>\n",
       "      <td>1.530200</td>\n",
       "      <td>0.70550</td>\n",
       "      <td>0.515100</td>\n",
       "      <td>100090.239881</td>\n",
       "      <td>0.203700</td>\n",
       "    </tr>\n",
       "    <tr>\n",
       "      <th>std</th>\n",
       "      <td>2886.89568</td>\n",
       "      <td>7.193619e+04</td>\n",
       "      <td>96.653299</td>\n",
       "      <td>10.487806</td>\n",
       "      <td>2.892174</td>\n",
       "      <td>62397.405202</td>\n",
       "      <td>0.581654</td>\n",
       "      <td>0.45584</td>\n",
       "      <td>0.499797</td>\n",
       "      <td>57510.492818</td>\n",
       "      <td>0.402769</td>\n",
       "    </tr>\n",
       "    <tr>\n",
       "      <th>min</th>\n",
       "      <td>1.00000</td>\n",
       "      <td>1.556570e+07</td>\n",
       "      <td>350.000000</td>\n",
       "      <td>18.000000</td>\n",
       "      <td>0.000000</td>\n",
       "      <td>0.000000</td>\n",
       "      <td>1.000000</td>\n",
       "      <td>0.00000</td>\n",
       "      <td>0.000000</td>\n",
       "      <td>11.580000</td>\n",
       "      <td>0.000000</td>\n",
       "    </tr>\n",
       "    <tr>\n",
       "      <th>25%</th>\n",
       "      <td>2500.75000</td>\n",
       "      <td>1.562853e+07</td>\n",
       "      <td>584.000000</td>\n",
       "      <td>32.000000</td>\n",
       "      <td>3.000000</td>\n",
       "      <td>0.000000</td>\n",
       "      <td>1.000000</td>\n",
       "      <td>0.00000</td>\n",
       "      <td>0.000000</td>\n",
       "      <td>51002.110000</td>\n",
       "      <td>0.000000</td>\n",
       "    </tr>\n",
       "    <tr>\n",
       "      <th>50%</th>\n",
       "      <td>5000.50000</td>\n",
       "      <td>1.569074e+07</td>\n",
       "      <td>652.000000</td>\n",
       "      <td>37.000000</td>\n",
       "      <td>5.000000</td>\n",
       "      <td>97198.540000</td>\n",
       "      <td>1.000000</td>\n",
       "      <td>1.00000</td>\n",
       "      <td>1.000000</td>\n",
       "      <td>100193.915000</td>\n",
       "      <td>0.000000</td>\n",
       "    </tr>\n",
       "    <tr>\n",
       "      <th>75%</th>\n",
       "      <td>7500.25000</td>\n",
       "      <td>1.575323e+07</td>\n",
       "      <td>718.000000</td>\n",
       "      <td>44.000000</td>\n",
       "      <td>7.000000</td>\n",
       "      <td>127644.240000</td>\n",
       "      <td>2.000000</td>\n",
       "      <td>1.00000</td>\n",
       "      <td>1.000000</td>\n",
       "      <td>149388.247500</td>\n",
       "      <td>0.000000</td>\n",
       "    </tr>\n",
       "    <tr>\n",
       "      <th>max</th>\n",
       "      <td>10000.00000</td>\n",
       "      <td>1.581569e+07</td>\n",
       "      <td>850.000000</td>\n",
       "      <td>92.000000</td>\n",
       "      <td>10.000000</td>\n",
       "      <td>250898.090000</td>\n",
       "      <td>4.000000</td>\n",
       "      <td>1.00000</td>\n",
       "      <td>1.000000</td>\n",
       "      <td>199992.480000</td>\n",
       "      <td>1.000000</td>\n",
       "    </tr>\n",
       "  </tbody>\n",
       "</table>\n",
       "</div>"
      ],
      "text/plain": [
       "         RowNumber    CustomerId   CreditScore           Age        Tenure  \\\n",
       "count  10000.00000  1.000000e+04  10000.000000  10000.000000  10000.000000   \n",
       "mean    5000.50000  1.569094e+07    650.528800     38.921800      5.012800   \n",
       "std     2886.89568  7.193619e+04     96.653299     10.487806      2.892174   \n",
       "min        1.00000  1.556570e+07    350.000000     18.000000      0.000000   \n",
       "25%     2500.75000  1.562853e+07    584.000000     32.000000      3.000000   \n",
       "50%     5000.50000  1.569074e+07    652.000000     37.000000      5.000000   \n",
       "75%     7500.25000  1.575323e+07    718.000000     44.000000      7.000000   \n",
       "max    10000.00000  1.581569e+07    850.000000     92.000000     10.000000   \n",
       "\n",
       "             Balance  NumOfProducts    HasCrCard  IsActiveMember  \\\n",
       "count   10000.000000   10000.000000  10000.00000    10000.000000   \n",
       "mean    76485.889288       1.530200      0.70550        0.515100   \n",
       "std     62397.405202       0.581654      0.45584        0.499797   \n",
       "min         0.000000       1.000000      0.00000        0.000000   \n",
       "25%         0.000000       1.000000      0.00000        0.000000   \n",
       "50%     97198.540000       1.000000      1.00000        1.000000   \n",
       "75%    127644.240000       2.000000      1.00000        1.000000   \n",
       "max    250898.090000       4.000000      1.00000        1.000000   \n",
       "\n",
       "       EstimatedSalary        Exited  \n",
       "count     10000.000000  10000.000000  \n",
       "mean     100090.239881      0.203700  \n",
       "std       57510.492818      0.402769  \n",
       "min          11.580000      0.000000  \n",
       "25%       51002.110000      0.000000  \n",
       "50%      100193.915000      0.000000  \n",
       "75%      149388.247500      0.000000  \n",
       "max      199992.480000      1.000000  "
      ]
     },
     "execution_count": 5,
     "metadata": {},
     "output_type": "execute_result"
    }
   ],
   "source": [
    "data.describe()"
   ]
  },
  {
   "cell_type": "markdown",
   "id": "e258fdd6",
   "metadata": {
    "papermill": {
     "duration": 0.010989,
     "end_time": "2023-07-05T14:26:53.072157",
     "exception": false,
     "start_time": "2023-07-05T14:26:53.061168",
     "status": "completed"
    },
    "tags": []
   },
   "source": [
    "# Dropping Irrelevant Attributes"
   ]
  },
  {
   "cell_type": "code",
   "execution_count": 6,
   "id": "dea97668",
   "metadata": {
    "execution": {
     "iopub.execute_input": "2023-07-05T14:26:53.096146Z",
     "iopub.status.busy": "2023-07-05T14:26:53.095752Z",
     "iopub.status.idle": "2023-07-05T14:26:53.103655Z",
     "shell.execute_reply": "2023-07-05T14:26:53.102828Z"
    },
    "papermill": {
     "duration": 0.0224,
     "end_time": "2023-07-05T14:26:53.105665",
     "exception": false,
     "start_time": "2023-07-05T14:26:53.083265",
     "status": "completed"
    },
    "tags": []
   },
   "outputs": [
    {
     "data": {
      "text/plain": [
       "Index(['RowNumber', 'CustomerId', 'Surname', 'CreditScore', 'Geography',\n",
       "       'Gender', 'Age', 'Tenure', 'Balance', 'NumOfProducts', 'HasCrCard',\n",
       "       'IsActiveMember', 'EstimatedSalary', 'Exited'],\n",
       "      dtype='object')"
      ]
     },
     "execution_count": 6,
     "metadata": {},
     "output_type": "execute_result"
    }
   ],
   "source": [
    "data.columns"
   ]
  },
  {
   "cell_type": "code",
   "execution_count": 7,
   "id": "69152125",
   "metadata": {
    "execution": {
     "iopub.execute_input": "2023-07-05T14:26:53.130190Z",
     "iopub.status.busy": "2023-07-05T14:26:53.129818Z",
     "iopub.status.idle": "2023-07-05T14:26:53.137661Z",
     "shell.execute_reply": "2023-07-05T14:26:53.136554Z"
    },
    "papermill": {
     "duration": 0.022704,
     "end_time": "2023-07-05T14:26:53.139784",
     "exception": false,
     "start_time": "2023-07-05T14:26:53.117080",
     "status": "completed"
    },
    "tags": []
   },
   "outputs": [],
   "source": [
    "data = data.drop(['RowNumber', 'CustomerId', 'Surname'], axis = 1)"
   ]
  },
  {
   "cell_type": "code",
   "execution_count": 8,
   "id": "053a78b8",
   "metadata": {
    "execution": {
     "iopub.execute_input": "2023-07-05T14:26:53.164194Z",
     "iopub.status.busy": "2023-07-05T14:26:53.163825Z",
     "iopub.status.idle": "2023-07-05T14:26:53.178635Z",
     "shell.execute_reply": "2023-07-05T14:26:53.177645Z"
    },
    "papermill": {
     "duration": 0.029702,
     "end_time": "2023-07-05T14:26:53.180829",
     "exception": false,
     "start_time": "2023-07-05T14:26:53.151127",
     "status": "completed"
    },
    "tags": []
   },
   "outputs": [
    {
     "data": {
      "text/html": [
       "<div>\n",
       "<style scoped>\n",
       "    .dataframe tbody tr th:only-of-type {\n",
       "        vertical-align: middle;\n",
       "    }\n",
       "\n",
       "    .dataframe tbody tr th {\n",
       "        vertical-align: top;\n",
       "    }\n",
       "\n",
       "    .dataframe thead th {\n",
       "        text-align: right;\n",
       "    }\n",
       "</style>\n",
       "<table border=\"1\" class=\"dataframe\">\n",
       "  <thead>\n",
       "    <tr style=\"text-align: right;\">\n",
       "      <th></th>\n",
       "      <th>CreditScore</th>\n",
       "      <th>Geography</th>\n",
       "      <th>Gender</th>\n",
       "      <th>Age</th>\n",
       "      <th>Tenure</th>\n",
       "      <th>Balance</th>\n",
       "      <th>NumOfProducts</th>\n",
       "      <th>HasCrCard</th>\n",
       "      <th>IsActiveMember</th>\n",
       "      <th>EstimatedSalary</th>\n",
       "      <th>Exited</th>\n",
       "    </tr>\n",
       "  </thead>\n",
       "  <tbody>\n",
       "    <tr>\n",
       "      <th>0</th>\n",
       "      <td>619</td>\n",
       "      <td>France</td>\n",
       "      <td>Female</td>\n",
       "      <td>42</td>\n",
       "      <td>2</td>\n",
       "      <td>0.00</td>\n",
       "      <td>1</td>\n",
       "      <td>1</td>\n",
       "      <td>1</td>\n",
       "      <td>101348.88</td>\n",
       "      <td>1</td>\n",
       "    </tr>\n",
       "    <tr>\n",
       "      <th>1</th>\n",
       "      <td>608</td>\n",
       "      <td>Spain</td>\n",
       "      <td>Female</td>\n",
       "      <td>41</td>\n",
       "      <td>1</td>\n",
       "      <td>83807.86</td>\n",
       "      <td>1</td>\n",
       "      <td>0</td>\n",
       "      <td>1</td>\n",
       "      <td>112542.58</td>\n",
       "      <td>0</td>\n",
       "    </tr>\n",
       "    <tr>\n",
       "      <th>2</th>\n",
       "      <td>502</td>\n",
       "      <td>France</td>\n",
       "      <td>Female</td>\n",
       "      <td>42</td>\n",
       "      <td>8</td>\n",
       "      <td>159660.80</td>\n",
       "      <td>3</td>\n",
       "      <td>1</td>\n",
       "      <td>0</td>\n",
       "      <td>113931.57</td>\n",
       "      <td>1</td>\n",
       "    </tr>\n",
       "    <tr>\n",
       "      <th>3</th>\n",
       "      <td>699</td>\n",
       "      <td>France</td>\n",
       "      <td>Female</td>\n",
       "      <td>39</td>\n",
       "      <td>1</td>\n",
       "      <td>0.00</td>\n",
       "      <td>2</td>\n",
       "      <td>0</td>\n",
       "      <td>0</td>\n",
       "      <td>93826.63</td>\n",
       "      <td>0</td>\n",
       "    </tr>\n",
       "    <tr>\n",
       "      <th>4</th>\n",
       "      <td>850</td>\n",
       "      <td>Spain</td>\n",
       "      <td>Female</td>\n",
       "      <td>43</td>\n",
       "      <td>2</td>\n",
       "      <td>125510.82</td>\n",
       "      <td>1</td>\n",
       "      <td>1</td>\n",
       "      <td>1</td>\n",
       "      <td>79084.10</td>\n",
       "      <td>0</td>\n",
       "    </tr>\n",
       "  </tbody>\n",
       "</table>\n",
       "</div>"
      ],
      "text/plain": [
       "   CreditScore Geography  Gender  Age  Tenure    Balance  NumOfProducts  \\\n",
       "0          619    France  Female   42       2       0.00              1   \n",
       "1          608     Spain  Female   41       1   83807.86              1   \n",
       "2          502    France  Female   42       8  159660.80              3   \n",
       "3          699    France  Female   39       1       0.00              2   \n",
       "4          850     Spain  Female   43       2  125510.82              1   \n",
       "\n",
       "   HasCrCard  IsActiveMember  EstimatedSalary  Exited  \n",
       "0          1               1        101348.88       1  \n",
       "1          0               1        112542.58       0  \n",
       "2          1               0        113931.57       1  \n",
       "3          0               0         93826.63       0  \n",
       "4          1               1         79084.10       0  "
      ]
     },
     "execution_count": 8,
     "metadata": {},
     "output_type": "execute_result"
    }
   ],
   "source": [
    "data.head()"
   ]
  },
  {
   "cell_type": "markdown",
   "id": "749ab49a",
   "metadata": {
    "papermill": {
     "duration": 0.011232,
     "end_time": "2023-07-05T14:26:53.203808",
     "exception": false,
     "start_time": "2023-07-05T14:26:53.192576",
     "status": "completed"
    },
    "tags": []
   },
   "source": [
    "# Exploratory Data Analysis"
   ]
  },
  {
   "cell_type": "code",
   "execution_count": 9,
   "id": "c002f1cb",
   "metadata": {
    "execution": {
     "iopub.execute_input": "2023-07-05T14:26:53.228362Z",
     "iopub.status.busy": "2023-07-05T14:26:53.227959Z",
     "iopub.status.idle": "2023-07-05T14:26:53.241010Z",
     "shell.execute_reply": "2023-07-05T14:26:53.239963Z"
    },
    "papermill": {
     "duration": 0.02816,
     "end_time": "2023-07-05T14:26:53.243333",
     "exception": false,
     "start_time": "2023-07-05T14:26:53.215173",
     "status": "completed"
    },
    "tags": []
   },
   "outputs": [
    {
     "data": {
      "text/plain": [
       "['Geography',\n",
       " 'Gender',\n",
       " 'Tenure',\n",
       " 'NumOfProducts',\n",
       " 'HasCrCard',\n",
       " 'IsActiveMember']"
      ]
     },
     "execution_count": 9,
     "metadata": {},
     "output_type": "execute_result"
    }
   ],
   "source": [
    "# categorical Variables\n",
    "categorical_variables = [col for col in data.columns if col in \"O\"\n",
    "                        or data[col].nunique() <=11\n",
    "                        and col not in \"Exited\"]\n",
    "\n",
    "categorical_variables"
   ]
  },
  {
   "cell_type": "code",
   "execution_count": 10,
   "id": "3b462f6e",
   "metadata": {
    "execution": {
     "iopub.execute_input": "2023-07-05T14:26:53.267935Z",
     "iopub.status.busy": "2023-07-05T14:26:53.267508Z",
     "iopub.status.idle": "2023-07-05T14:26:53.278028Z",
     "shell.execute_reply": "2023-07-05T14:26:53.277065Z"
    },
    "papermill": {
     "duration": 0.025216,
     "end_time": "2023-07-05T14:26:53.280112",
     "exception": false,
     "start_time": "2023-07-05T14:26:53.254896",
     "status": "completed"
    },
    "tags": []
   },
   "outputs": [
    {
     "data": {
      "text/plain": [
       "['CreditScore', 'Age', 'Balance', 'EstimatedSalary']"
      ]
     },
     "execution_count": 10,
     "metadata": {},
     "output_type": "execute_result"
    }
   ],
   "source": [
    "# Numeric Variables\n",
    "numeric_variables = [col for col in data.columns if data[col].dtype != \"object\"\n",
    "                        and data[col].nunique() >11]\n",
    "numeric_variables"
   ]
  },
  {
   "cell_type": "code",
   "execution_count": 11,
   "id": "1e4bce35",
   "metadata": {
    "execution": {
     "iopub.execute_input": "2023-07-05T14:26:53.305395Z",
     "iopub.status.busy": "2023-07-05T14:26:53.304537Z",
     "iopub.status.idle": "2023-07-05T14:26:53.504740Z",
     "shell.execute_reply": "2023-07-05T14:26:53.503636Z"
    },
    "papermill": {
     "duration": 0.216034,
     "end_time": "2023-07-05T14:26:53.507739",
     "exception": false,
     "start_time": "2023-07-05T14:26:53.291705",
     "status": "completed"
    },
    "tags": []
   },
   "outputs": [
    {
     "data": {
      "image/png": "[encoded data removed]",
      "text/plain": [
       "<Figure size 400x400 with 1 Axes>"
      ]
     },
     "metadata": {},
     "output_type": "display_data"
    }
   ],
   "source": [
    "# Calculate the counts of churned and retained customers\n",
    "churned_count = data[data['Exited'] == 1]['Exited'].count()\n",
    "retained_count = data[data['Exited'] == 0]['Exited'].count()\n",
    "labels = ['Exited', 'Retained']\n",
    "sizes = [churned_count, retained_count]\n",
    "\n",
    "explode = (0, 0.1)\n",
    "colors = ['#4daf4a','#1b7837']\n",
    "\n",
    "# Create a pie chart\n",
    "fig, ax = plt.subplots(figsize=(4, 4))\n",
    "ax.pie(sizes, explode=explode, labels=labels, autopct='%1.1f%%',\n",
    "       shadow=True, startangle=90, colors=colors)\n",
    "ax.axis('equal')\n",
    "plt.title(\"Proportion of customer churned and retained\", size=16)\n",
    "plt.show()\n"
   ]
  },
  {
   "cell_type": "markdown",
   "id": "39b976f8",
   "metadata": {
    "papermill": {
     "duration": 0.019859,
     "end_time": "2023-07-05T14:26:53.548326",
     "exception": false,
     "start_time": "2023-07-05T14:26:53.528467",
     "status": "completed"
    },
    "tags": []
   },
   "source": [
    "From the pie chart above, it can be seen that from the given 10,000 data points, 20% of the customers have exited the bank whereas nearly 80% have retained their accounts."
   ]
  },
  {
   "cell_type": "code",
   "execution_count": 12,
   "id": "79dc3c23",
   "metadata": {
    "execution": {
     "iopub.execute_input": "2023-07-05T14:26:53.578127Z",
     "iopub.status.busy": "2023-07-05T14:26:53.577355Z",
     "iopub.status.idle": "2023-07-05T14:26:53.917207Z",
     "shell.execute_reply": "2023-07-05T14:26:53.916097Z"
    },
    "papermill": {
     "duration": 0.356343,
     "end_time": "2023-07-05T14:26:53.919925",
     "exception": false,
     "start_time": "2023-07-05T14:26:53.563582",
     "status": "completed"
    },
    "tags": []
   },
   "outputs": [
    {
     "data": {
      "image/png": "[encoded data removed]",
      "text/plain": [
       "<Figure size 1500x500 with 3 Axes>"
      ]
     },
     "metadata": {},
     "output_type": "display_data"
    },
    {
     "name": "stdout",
     "output_type": "stream",
     "text": [
      "Germany - Churned: 814, Retained: 4204\n",
      "France - Churned: 810, Retained: 2064\n",
      "Spain - Churned: 413, Retained: 1695\n"
     ]
    }
   ],
   "source": [
    "churned_counts = data[data['Exited'] == 1]['Geography'].value_counts()\n",
    "retained_counts = data[data['Exited'] == 0]['Geography'].value_counts()\n",
    "\n",
    "countries = churned_counts.index\n",
    "\n",
    "fig, axs = plt.subplots(1, 3, figsize=(15, 5))\n",
    "colors = ['#003f5c', '#7a9eb1']\n",
    "\n",
    "for i, country in enumerate(countries):\n",
    "    churned_value = churned_counts[country]\n",
    "    retained_value = retained_counts[country]\n",
    "    axs[i].pie([churned_value, retained_value], labels=['Churned', 'Retained'],\n",
    "               autopct='%1.1f%%', startangle=90, colors=colors)\n",
    "    axs[i].set_title(f\"{country} - Churned vs Retained\")\n",
    "    axs[i].axis('equal')\n",
    "\n",
    "\n",
    "plt.show()\n",
    "\n",
    "for country, churned, retained in zip(countries, churned_counts, retained_counts):\n",
    "    print(f\"{country} - Churned: {churned}, Retained: {retained}\")\n"
   ]
  },
  {
   "cell_type": "markdown",
   "id": "fdd0b9e8",
   "metadata": {
    "papermill": {
     "duration": 0.012687,
     "end_time": "2023-07-05T14:26:53.945694",
     "exception": false,
     "start_time": "2023-07-05T14:26:53.933007",
     "status": "completed"
    },
    "tags": []
   },
   "source": [
    "The above pie chart depicts the percentage of churned customers with respect to their Greography. Based on these numbers, we can make the following observations:\n",
    "\n",
    "1. Germany has the highest number of retained customers (4,204), indicating a relatively higher customer retention rate compared to the other two countries.\n",
    "\n",
    "2. France has a significant number of retained customers (2,064), but it also has a substantial number of churned customers (810), suggesting that customer retention efforts may be relatively less effective in France compared to Germany.\n",
    "\n",
    "3. Spain has the lowest number of both retained and churned customers among the three countries. However, it's important to note that the difference between the churned (413) and retained (1,695) counts is relatively larger compared to Germany and France, indicating a higher churn rate in Spain."
   ]
  },
  {
   "cell_type": "code",
   "execution_count": 13,
   "id": "2d595803",
   "metadata": {
    "execution": {
     "iopub.execute_input": "2023-07-05T14:26:53.973689Z",
     "iopub.status.busy": "2023-07-05T14:26:53.973302Z",
     "iopub.status.idle": "2023-07-05T14:26:54.915108Z",
     "shell.execute_reply": "2023-07-05T14:26:54.913994Z"
    },
    "papermill": {
     "duration": 0.958877,
     "end_time": "2023-07-05T14:26:54.917566",
     "exception": false,
     "start_time": "2023-07-05T14:26:53.958689",
     "status": "completed"
    },
    "tags": []
   },
   "outputs": [
    {
     "data": {
      "image/png": "[encoded data removed]",
      "text/plain": [
       "<Figure size 200x1200 with 6 Axes>"
      ]
     },
     "metadata": {},
     "output_type": "display_data"
    }
   ],
   "source": [
    "fig, axs = plt.subplots(len(categorical_variables), 1, figsize = (2,2*len(categorical_variables)))\n",
    "for i, var in enumerate(categorical_variables):\n",
    "    chur_acc = data[data['Exited'] == 1][var].value_counts()\n",
    "    axs[i].bar(chur_acc.index, chur_acc.values, color='steelblue')\n",
    "    axs[i].set_xlabel(var)\n",
    "    axs[i].set_ylabel('Count')\n",
    "    axs[i].set_title(f'{var} - Churned')\n",
    "plt.tight_layout()\n",
    "plt.show()"
   ]
  },
  {
   "cell_type": "markdown",
   "id": "c0a481bb",
   "metadata": {
    "papermill": {
     "duration": 0.013832,
     "end_time": "2023-07-05T14:26:54.945714",
     "exception": false,
     "start_time": "2023-07-05T14:26:54.931882",
     "status": "completed"
    },
    "tags": []
   },
   "source": [
    "From the above bar plots, it can be inferred that:\n",
    "1. The number of female customers who churned are greater than the male customers\n",
    "2. Non active members churned more \n",
    "3. Suprisingly, people with credit card churned more\n",
    "4. Customers with either very low or very high tenure period tend to churn more\n",
    "5. NumOfProducts doesnt have much effect on the accounts churned. However, for NumOfProducts = 4, the account is guaranteed churned.\n"
   ]
  },
  {
   "cell_type": "code",
   "execution_count": 14,
   "id": "667928e3",
   "metadata": {
    "execution": {
     "iopub.execute_input": "2023-07-05T14:26:54.975978Z",
     "iopub.status.busy": "2023-07-05T14:26:54.975008Z",
     "iopub.status.idle": "2023-07-05T14:26:56.104841Z",
     "shell.execute_reply": "2023-07-05T14:26:56.103799Z"
    },
    "papermill": {
     "duration": 1.147293,
     "end_time": "2023-07-05T14:26:56.106980",
     "exception": false,
     "start_time": "2023-07-05T14:26:54.959687",
     "status": "completed"
    },
    "tags": []
   },
   "outputs": [
    {
     "data": {
      "image/png": "[encoded data removed]",
      "text/plain": [
       "<Figure size 1000x1000 with 4 Axes>"
      ]
     },
     "metadata": {},
     "output_type": "display_data"
    }
   ],
   "source": [
    "fig, axs = plt.subplots(2,2,figsize=(10,10))\n",
    "features = ['Age', 'EstimatedSalary', 'Balance', 'CreditScore']\n",
    "k = 0\n",
    "for i in range(2):\n",
    "    for j in range(2):\n",
    "        sns.boxplot(x='Exited', y=features[k], hue='Exited', data=data, ax = axs[i,j])\n",
    "        axs[i,j].set_title(f' {features[k]}')\n",
    "        k +=1 \n",
    "\n",
    "plt.tight_layout()\n",
    "plt.show()"
   ]
  },
  {
   "cell_type": "markdown",
   "id": "5ee9f356",
   "metadata": {
    "papermill": {
     "duration": 0.014573,
     "end_time": "2023-07-05T14:26:56.140731",
     "exception": false,
     "start_time": "2023-07-05T14:26:56.126158",
     "status": "completed"
    },
    "tags": []
   },
   "source": [
    "From the above boxplots it can be inferred that:\n",
    "1. Older people tend to churn more\n",
    "2. Customers with greater balance tend to churn more\n",
    "3. EstimatedSalary and CreditScore doesn't seem to have much effect on the accounts churned\n",
    "\n"
   ]
  },
  {
   "cell_type": "markdown",
   "id": "4fd9ea27",
   "metadata": {
    "papermill": {
     "duration": 0.014518,
     "end_time": "2023-07-05T14:26:56.170203",
     "exception": false,
     "start_time": "2023-07-05T14:26:56.155685",
     "status": "completed"
    },
    "tags": []
   },
   "source": [
    "The above boxplots also inform us that customers with credit score lower than 400 have definitely churned and customers with 4 number of products have always churned. "
   ]
  },
  {
   "cell_type": "markdown",
   "id": "96cf7e2b",
   "metadata": {
    "papermill": {
     "duration": 0.014515,
     "end_time": "2023-07-05T14:26:56.199498",
     "exception": false,
     "start_time": "2023-07-05T14:26:56.184983",
     "status": "completed"
    },
    "tags": []
   },
   "source": [
    "# Feature Engineering"
   ]
  },
  {
   "cell_type": "markdown",
   "id": "496c2abc",
   "metadata": {
    "papermill": {
     "duration": 0.014571,
     "end_time": "2023-07-05T14:26:56.228865",
     "exception": false,
     "start_time": "2023-07-05T14:26:56.214294",
     "status": "completed"
    },
    "tags": []
   },
   "source": [
    "# Outliers"
   ]
  },
  {
   "cell_type": "markdown",
   "id": "d0e57dab",
   "metadata": {
    "papermill": {
     "duration": 0.014426,
     "end_time": "2023-07-05T14:26:56.258023",
     "exception": false,
     "start_time": "2023-07-05T14:26:56.243597",
     "status": "completed"
    },
    "tags": []
   },
   "source": [
    "Checking for outliers within numeric variables \n"
   ]
  },
  {
   "cell_type": "code",
   "execution_count": 15,
   "id": "7bdec4e1",
   "metadata": {
    "execution": {
     "iopub.execute_input": "2023-07-05T14:26:56.289713Z",
     "iopub.status.busy": "2023-07-05T14:26:56.289018Z",
     "iopub.status.idle": "2023-07-05T14:26:56.293791Z",
     "shell.execute_reply": "2023-07-05T14:26:56.292850Z"
    },
    "papermill": {
     "duration": 0.022893,
     "end_time": "2023-07-05T14:26:56.295747",
     "exception": false,
     "start_time": "2023-07-05T14:26:56.272854",
     "status": "completed"
    },
    "tags": []
   },
   "outputs": [
    {
     "name": "stdout",
     "output_type": "stream",
     "text": [
      "['CreditScore', 'Age', 'Balance', 'EstimatedSalary']\n"
     ]
    }
   ],
   "source": [
    "print(numeric_variables)"
   ]
  },
  {
   "cell_type": "code",
   "execution_count": 16,
   "id": "e103bd5a",
   "metadata": {
    "execution": {
     "iopub.execute_input": "2023-07-05T14:26:56.327723Z",
     "iopub.status.busy": "2023-07-05T14:26:56.327117Z",
     "iopub.status.idle": "2023-07-05T14:26:56.332159Z",
     "shell.execute_reply": "2023-07-05T14:26:56.331396Z"
    },
    "papermill": {
     "duration": 0.023566,
     "end_time": "2023-07-05T14:26:56.334126",
     "exception": false,
     "start_time": "2023-07-05T14:26:56.310560",
     "status": "completed"
    },
    "tags": []
   },
   "outputs": [],
   "source": [
    "# To determine the threshold value for outliers\n",
    "def outlier_thresholds(data, variable, low_quantile=0.05, up_quantile=0.95):\n",
    "    quantile_one = data[variable].quantile(low_quantile)\n",
    "    quantile_three = data[variable].quantile(up_quantile)\n",
    "    interquantile_range = quantile_three - quantile_one\n",
    "    up_limit = quantile_three + 1.5 * interquantile_range\n",
    "    low_limit = quantile_one - 1.5 * interquantile_range\n",
    "    return low_limit, up_limit"
   ]
  },
  {
   "cell_type": "code",
   "execution_count": 17,
   "id": "5bf90bc1",
   "metadata": {
    "execution": {
     "iopub.execute_input": "2023-07-05T14:26:56.366587Z",
     "iopub.status.busy": "2023-07-05T14:26:56.365872Z",
     "iopub.status.idle": "2023-07-05T14:26:56.371979Z",
     "shell.execute_reply": "2023-07-05T14:26:56.371162Z"
    },
    "papermill": {
     "duration": 0.024628,
     "end_time": "2023-07-05T14:26:56.374063",
     "exception": false,
     "start_time": "2023-07-05T14:26:56.349435",
     "status": "completed"
    },
    "tags": []
   },
   "outputs": [],
   "source": [
    "# Are there any outliers in the variables\n",
    "def has_outliers(data, numeric_columns, plot=False):\n",
    "    for col in numeric_columns:\n",
    "        low_limit, up_limit = outlier_thresholds(data, col)\n",
    "        if data[(data[col] > up_limit) | (data[col] < low_limit)].any(axis=None):\n",
    "            number_of_outliers = data[(data[col] > up_limit) | (data[col] < low_limit)].shape[0]\n",
    "            print(col, \" : \", number_of_outliers, \"outliers\")\n",
    "            if plot:\n",
    "                sns.boxplot(x=data[col])\n",
    "                plt.show()\n",
    "    "
   ]
  },
  {
   "cell_type": "code",
   "execution_count": 18,
   "id": "bcc64c1f",
   "metadata": {
    "execution": {
     "iopub.execute_input": "2023-07-05T14:26:56.405905Z",
     "iopub.status.busy": "2023-07-05T14:26:56.405177Z",
     "iopub.status.idle": "2023-07-05T14:26:56.425366Z",
     "shell.execute_reply": "2023-07-05T14:26:56.424243Z"
    },
    "papermill": {
     "duration": 0.03877,
     "end_time": "2023-07-05T14:26:56.427668",
     "exception": false,
     "start_time": "2023-07-05T14:26:56.388898",
     "status": "completed"
    },
    "tags": []
   },
   "outputs": [
    {
     "name": "stdout",
     "output_type": "stream",
     "text": [
      "CreditScore has  None Outliers\n",
      "Age has  None Outliers\n",
      "Balance has  None Outliers\n",
      "EstimatedSalary has  None Outliers\n"
     ]
    }
   ],
   "source": [
    "# Loop to check for outlier within each numeric_variable list \n",
    "for var in numeric_variables:\n",
    "    print(var, \"has \" , has_outliers(data, [var]),  \"Outliers\")\n"
   ]
  },
  {
   "cell_type": "code",
   "execution_count": 19,
   "id": "ab9e01fe",
   "metadata": {
    "execution": {
     "iopub.execute_input": "2023-07-05T14:26:56.459435Z",
     "iopub.status.busy": "2023-07-05T14:26:56.459058Z",
     "iopub.status.idle": "2023-07-05T14:26:56.473955Z",
     "shell.execute_reply": "2023-07-05T14:26:56.472848Z"
    },
    "papermill": {
     "duration": 0.033438,
     "end_time": "2023-07-05T14:26:56.476045",
     "exception": false,
     "start_time": "2023-07-05T14:26:56.442607",
     "status": "completed"
    },
    "tags": []
   },
   "outputs": [
    {
     "data": {
      "text/html": [
       "<div>\n",
       "<style scoped>\n",
       "    .dataframe tbody tr th:only-of-type {\n",
       "        vertical-align: middle;\n",
       "    }\n",
       "\n",
       "    .dataframe tbody tr th {\n",
       "        vertical-align: top;\n",
       "    }\n",
       "\n",
       "    .dataframe thead th {\n",
       "        text-align: right;\n",
       "    }\n",
       "</style>\n",
       "<table border=\"1\" class=\"dataframe\">\n",
       "  <thead>\n",
       "    <tr style=\"text-align: right;\">\n",
       "      <th></th>\n",
       "      <th>CreditScore</th>\n",
       "      <th>Geography</th>\n",
       "      <th>Gender</th>\n",
       "      <th>Age</th>\n",
       "      <th>Tenure</th>\n",
       "      <th>Balance</th>\n",
       "      <th>NumOfProducts</th>\n",
       "      <th>HasCrCard</th>\n",
       "      <th>IsActiveMember</th>\n",
       "      <th>EstimatedSalary</th>\n",
       "      <th>Exited</th>\n",
       "    </tr>\n",
       "  </thead>\n",
       "  <tbody>\n",
       "    <tr>\n",
       "      <th>0</th>\n",
       "      <td>619</td>\n",
       "      <td>France</td>\n",
       "      <td>Female</td>\n",
       "      <td>42</td>\n",
       "      <td>2</td>\n",
       "      <td>0.00</td>\n",
       "      <td>1</td>\n",
       "      <td>1</td>\n",
       "      <td>1</td>\n",
       "      <td>101348.88</td>\n",
       "      <td>1</td>\n",
       "    </tr>\n",
       "    <tr>\n",
       "      <th>1</th>\n",
       "      <td>608</td>\n",
       "      <td>Spain</td>\n",
       "      <td>Female</td>\n",
       "      <td>41</td>\n",
       "      <td>1</td>\n",
       "      <td>83807.86</td>\n",
       "      <td>1</td>\n",
       "      <td>0</td>\n",
       "      <td>1</td>\n",
       "      <td>112542.58</td>\n",
       "      <td>0</td>\n",
       "    </tr>\n",
       "    <tr>\n",
       "      <th>2</th>\n",
       "      <td>502</td>\n",
       "      <td>France</td>\n",
       "      <td>Female</td>\n",
       "      <td>42</td>\n",
       "      <td>8</td>\n",
       "      <td>159660.80</td>\n",
       "      <td>3</td>\n",
       "      <td>1</td>\n",
       "      <td>0</td>\n",
       "      <td>113931.57</td>\n",
       "      <td>1</td>\n",
       "    </tr>\n",
       "    <tr>\n",
       "      <th>3</th>\n",
       "      <td>699</td>\n",
       "      <td>France</td>\n",
       "      <td>Female</td>\n",
       "      <td>39</td>\n",
       "      <td>1</td>\n",
       "      <td>0.00</td>\n",
       "      <td>2</td>\n",
       "      <td>0</td>\n",
       "      <td>0</td>\n",
       "      <td>93826.63</td>\n",
       "      <td>0</td>\n",
       "    </tr>\n",
       "    <tr>\n",
       "      <th>4</th>\n",
       "      <td>850</td>\n",
       "      <td>Spain</td>\n",
       "      <td>Female</td>\n",
       "      <td>43</td>\n",
       "      <td>2</td>\n",
       "      <td>125510.82</td>\n",
       "      <td>1</td>\n",
       "      <td>1</td>\n",
       "      <td>1</td>\n",
       "      <td>79084.10</td>\n",
       "      <td>0</td>\n",
       "    </tr>\n",
       "  </tbody>\n",
       "</table>\n",
       "</div>"
      ],
      "text/plain": [
       "   CreditScore Geography  Gender  Age  Tenure    Balance  NumOfProducts  \\\n",
       "0          619    France  Female   42       2       0.00              1   \n",
       "1          608     Spain  Female   41       1   83807.86              1   \n",
       "2          502    France  Female   42       8  159660.80              3   \n",
       "3          699    France  Female   39       1       0.00              2   \n",
       "4          850     Spain  Female   43       2  125510.82              1   \n",
       "\n",
       "   HasCrCard  IsActiveMember  EstimatedSalary  Exited  \n",
       "0          1               1        101348.88       1  \n",
       "1          0               1        112542.58       0  \n",
       "2          1               0        113931.57       1  \n",
       "3          0               0         93826.63       0  \n",
       "4          1               1         79084.10       0  "
      ]
     },
     "execution_count": 19,
     "metadata": {},
     "output_type": "execute_result"
    }
   ],
   "source": [
    "data.head()"
   ]
  },
  {
   "cell_type": "markdown",
   "id": "a746ca75",
   "metadata": {
    "papermill": {
     "duration": 0.014863,
     "end_time": "2023-07-05T14:26:56.506065",
     "exception": false,
     "start_time": "2023-07-05T14:26:56.491202",
     "status": "completed"
    },
    "tags": []
   },
   "source": [
    "Conclusion: There are no outliers. "
   ]
  },
  {
   "cell_type": "markdown",
   "id": "7ca1eb9b",
   "metadata": {
    "papermill": {
     "duration": 0.01479,
     "end_time": "2023-07-05T14:26:56.535964",
     "exception": false,
     "start_time": "2023-07-05T14:26:56.521174",
     "status": "completed"
    },
    "tags": []
   },
   "source": [
    "# Feature Engineering"
   ]
  },
  {
   "cell_type": "code",
   "execution_count": 20,
   "id": "d93d3491",
   "metadata": {
    "execution": {
     "iopub.execute_input": "2023-07-05T14:26:56.567904Z",
     "iopub.status.busy": "2023-07-05T14:26:56.567467Z",
     "iopub.status.idle": "2023-07-05T14:26:56.750474Z",
     "shell.execute_reply": "2023-07-05T14:26:56.749407Z"
    },
    "papermill": {
     "duration": 0.202101,
     "end_time": "2023-07-05T14:26:56.753154",
     "exception": false,
     "start_time": "2023-07-05T14:26:56.551053",
     "status": "completed"
    },
    "tags": []
   },
   "outputs": [],
   "source": [
    "from sklearn.preprocessing import StandardScaler\n",
    "\n",
    "# Feature Engineering for numeric variables\n",
    "def engineer_numeric_features(data):\n",
    "    \n",
    "    # Standardization of numeric variables (e.g., age, estimated_salary, balance, creditScore)\n",
    "    scaler = StandardScaler()\n",
    "    data[numeric_variables] = scaler.fit_transform(data[numeric_variables])\n",
    "    # Performs quantile-based binning of the 'CreditScore' variable into discrete categories.\n",
    "    data[\"NewCreditsScore\"] = pd.qcut(data['CreditScore'], 6, labels = [1, 2, 3, 4, 5, 6])\n",
    "\n",
    "    return data\n",
    "\n",
    "data = engineer_numeric_features(data)"
   ]
  },
  {
   "cell_type": "code",
   "execution_count": 21,
   "id": "25a15156",
   "metadata": {
    "execution": {
     "iopub.execute_input": "2023-07-05T14:26:56.785871Z",
     "iopub.status.busy": "2023-07-05T14:26:56.785424Z",
     "iopub.status.idle": "2023-07-05T14:26:56.801849Z",
     "shell.execute_reply": "2023-07-05T14:26:56.800784Z"
    },
    "papermill": {
     "duration": 0.035567,
     "end_time": "2023-07-05T14:26:56.803995",
     "exception": false,
     "start_time": "2023-07-05T14:26:56.768428",
     "status": "completed"
    },
    "tags": []
   },
   "outputs": [
    {
     "data": {
      "text/html": [
       "<div>\n",
       "<style scoped>\n",
       "    .dataframe tbody tr th:only-of-type {\n",
       "        vertical-align: middle;\n",
       "    }\n",
       "\n",
       "    .dataframe tbody tr th {\n",
       "        vertical-align: top;\n",
       "    }\n",
       "\n",
       "    .dataframe thead th {\n",
       "        text-align: right;\n",
       "    }\n",
       "</style>\n",
       "<table border=\"1\" class=\"dataframe\">\n",
       "  <thead>\n",
       "    <tr style=\"text-align: right;\">\n",
       "      <th></th>\n",
       "      <th>CreditScore</th>\n",
       "      <th>Geography</th>\n",
       "      <th>Gender</th>\n",
       "      <th>Age</th>\n",
       "      <th>Tenure</th>\n",
       "      <th>Balance</th>\n",
       "      <th>NumOfProducts</th>\n",
       "      <th>HasCrCard</th>\n",
       "      <th>IsActiveMember</th>\n",
       "      <th>EstimatedSalary</th>\n",
       "      <th>Exited</th>\n",
       "      <th>NewCreditsScore</th>\n",
       "    </tr>\n",
       "  </thead>\n",
       "  <tbody>\n",
       "    <tr>\n",
       "      <th>0</th>\n",
       "      <td>-0.326221</td>\n",
       "      <td>France</td>\n",
       "      <td>Female</td>\n",
       "      <td>0.293517</td>\n",
       "      <td>2</td>\n",
       "      <td>-1.225848</td>\n",
       "      <td>1</td>\n",
       "      <td>1</td>\n",
       "      <td>1</td>\n",
       "      <td>0.021886</td>\n",
       "      <td>1</td>\n",
       "      <td>3</td>\n",
       "    </tr>\n",
       "    <tr>\n",
       "      <th>1</th>\n",
       "      <td>-0.440036</td>\n",
       "      <td>Spain</td>\n",
       "      <td>Female</td>\n",
       "      <td>0.198164</td>\n",
       "      <td>1</td>\n",
       "      <td>0.117350</td>\n",
       "      <td>1</td>\n",
       "      <td>0</td>\n",
       "      <td>1</td>\n",
       "      <td>0.216534</td>\n",
       "      <td>0</td>\n",
       "      <td>2</td>\n",
       "    </tr>\n",
       "    <tr>\n",
       "      <th>2</th>\n",
       "      <td>-1.536794</td>\n",
       "      <td>France</td>\n",
       "      <td>Female</td>\n",
       "      <td>0.293517</td>\n",
       "      <td>8</td>\n",
       "      <td>1.333053</td>\n",
       "      <td>3</td>\n",
       "      <td>1</td>\n",
       "      <td>0</td>\n",
       "      <td>0.240687</td>\n",
       "      <td>1</td>\n",
       "      <td>1</td>\n",
       "    </tr>\n",
       "    <tr>\n",
       "      <th>3</th>\n",
       "      <td>0.501521</td>\n",
       "      <td>France</td>\n",
       "      <td>Female</td>\n",
       "      <td>0.007457</td>\n",
       "      <td>1</td>\n",
       "      <td>-1.225848</td>\n",
       "      <td>2</td>\n",
       "      <td>0</td>\n",
       "      <td>0</td>\n",
       "      <td>-0.108918</td>\n",
       "      <td>0</td>\n",
       "      <td>5</td>\n",
       "    </tr>\n",
       "    <tr>\n",
       "      <th>4</th>\n",
       "      <td>2.063884</td>\n",
       "      <td>Spain</td>\n",
       "      <td>Female</td>\n",
       "      <td>0.388871</td>\n",
       "      <td>2</td>\n",
       "      <td>0.785728</td>\n",
       "      <td>1</td>\n",
       "      <td>1</td>\n",
       "      <td>1</td>\n",
       "      <td>-0.365276</td>\n",
       "      <td>0</td>\n",
       "      <td>6</td>\n",
       "    </tr>\n",
       "  </tbody>\n",
       "</table>\n",
       "</div>"
      ],
      "text/plain": [
       "   CreditScore Geography  Gender       Age  Tenure   Balance  NumOfProducts  \\\n",
       "0    -0.326221    France  Female  0.293517       2 -1.225848              1   \n",
       "1    -0.440036     Spain  Female  0.198164       1  0.117350              1   \n",
       "2    -1.536794    France  Female  0.293517       8  1.333053              3   \n",
       "3     0.501521    France  Female  0.007457       1 -1.225848              2   \n",
       "4     2.063884     Spain  Female  0.388871       2  0.785728              1   \n",
       "\n",
       "   HasCrCard  IsActiveMember  EstimatedSalary  Exited NewCreditsScore  \n",
       "0          1               1         0.021886       1               3  \n",
       "1          0               1         0.216534       0               2  \n",
       "2          1               0         0.240687       1               1  \n",
       "3          0               0        -0.108918       0               5  \n",
       "4          1               1        -0.365276       0               6  "
      ]
     },
     "execution_count": 21,
     "metadata": {},
     "output_type": "execute_result"
    }
   ],
   "source": [
    "data.head()"
   ]
  },
  {
   "cell_type": "code",
   "execution_count": 22,
   "id": "c776e986",
   "metadata": {
    "execution": {
     "iopub.execute_input": "2023-07-05T14:26:56.837942Z",
     "iopub.status.busy": "2023-07-05T14:26:56.837571Z",
     "iopub.status.idle": "2023-07-05T14:26:56.852394Z",
     "shell.execute_reply": "2023-07-05T14:26:56.851252Z"
    },
    "papermill": {
     "duration": 0.034761,
     "end_time": "2023-07-05T14:26:56.854910",
     "exception": false,
     "start_time": "2023-07-05T14:26:56.820149",
     "status": "completed"
    },
    "tags": []
   },
   "outputs": [],
   "source": [
    "# Feature engineering for categorical variables\n",
    "def engineer_categorical_features(data):\n",
    "    # One-hot encoding for categorical variables (Gender, Geography)\n",
    "    list = [\"Gender\", \"Geography\"]\n",
    "    data = pd.get_dummies(data, columns =list, drop_first = True)\n",
    "    return data\n",
    "\n",
    "data = engineer_categorical_features(data)\n"
   ]
  },
  {
   "cell_type": "code",
   "execution_count": 23,
   "id": "9023f734",
   "metadata": {
    "execution": {
     "iopub.execute_input": "2023-07-05T14:26:56.887991Z",
     "iopub.status.busy": "2023-07-05T14:26:56.887600Z",
     "iopub.status.idle": "2023-07-05T14:26:56.902374Z",
     "shell.execute_reply": "2023-07-05T14:26:56.901318Z"
    },
    "papermill": {
     "duration": 0.033917,
     "end_time": "2023-07-05T14:26:56.904443",
     "exception": false,
     "start_time": "2023-07-05T14:26:56.870526",
     "status": "completed"
    },
    "tags": []
   },
   "outputs": [
    {
     "data": {
      "text/html": [
       "<div>\n",
       "<style scoped>\n",
       "    .dataframe tbody tr th:only-of-type {\n",
       "        vertical-align: middle;\n",
       "    }\n",
       "\n",
       "    .dataframe tbody tr th {\n",
       "        vertical-align: top;\n",
       "    }\n",
       "\n",
       "    .dataframe thead th {\n",
       "        text-align: right;\n",
       "    }\n",
       "</style>\n",
       "<table border=\"1\" class=\"dataframe\">\n",
       "  <thead>\n",
       "    <tr style=\"text-align: right;\">\n",
       "      <th></th>\n",
       "      <th>CreditScore</th>\n",
       "      <th>Age</th>\n",
       "      <th>Tenure</th>\n",
       "      <th>Balance</th>\n",
       "      <th>NumOfProducts</th>\n",
       "      <th>HasCrCard</th>\n",
       "      <th>IsActiveMember</th>\n",
       "      <th>EstimatedSalary</th>\n",
       "      <th>Exited</th>\n",
       "      <th>NewCreditsScore</th>\n",
       "      <th>Gender_Male</th>\n",
       "      <th>Geography_Germany</th>\n",
       "      <th>Geography_Spain</th>\n",
       "    </tr>\n",
       "  </thead>\n",
       "  <tbody>\n",
       "    <tr>\n",
       "      <th>0</th>\n",
       "      <td>-0.326221</td>\n",
       "      <td>0.293517</td>\n",
       "      <td>2</td>\n",
       "      <td>-1.225848</td>\n",
       "      <td>1</td>\n",
       "      <td>1</td>\n",
       "      <td>1</td>\n",
       "      <td>0.021886</td>\n",
       "      <td>1</td>\n",
       "      <td>3</td>\n",
       "      <td>0</td>\n",
       "      <td>0</td>\n",
       "      <td>0</td>\n",
       "    </tr>\n",
       "    <tr>\n",
       "      <th>1</th>\n",
       "      <td>-0.440036</td>\n",
       "      <td>0.198164</td>\n",
       "      <td>1</td>\n",
       "      <td>0.117350</td>\n",
       "      <td>1</td>\n",
       "      <td>0</td>\n",
       "      <td>1</td>\n",
       "      <td>0.216534</td>\n",
       "      <td>0</td>\n",
       "      <td>2</td>\n",
       "      <td>0</td>\n",
       "      <td>0</td>\n",
       "      <td>1</td>\n",
       "    </tr>\n",
       "    <tr>\n",
       "      <th>2</th>\n",
       "      <td>-1.536794</td>\n",
       "      <td>0.293517</td>\n",
       "      <td>8</td>\n",
       "      <td>1.333053</td>\n",
       "      <td>3</td>\n",
       "      <td>1</td>\n",
       "      <td>0</td>\n",
       "      <td>0.240687</td>\n",
       "      <td>1</td>\n",
       "      <td>1</td>\n",
       "      <td>0</td>\n",
       "      <td>0</td>\n",
       "      <td>0</td>\n",
       "    </tr>\n",
       "    <tr>\n",
       "      <th>3</th>\n",
       "      <td>0.501521</td>\n",
       "      <td>0.007457</td>\n",
       "      <td>1</td>\n",
       "      <td>-1.225848</td>\n",
       "      <td>2</td>\n",
       "      <td>0</td>\n",
       "      <td>0</td>\n",
       "      <td>-0.108918</td>\n",
       "      <td>0</td>\n",
       "      <td>5</td>\n",
       "      <td>0</td>\n",
       "      <td>0</td>\n",
       "      <td>0</td>\n",
       "    </tr>\n",
       "    <tr>\n",
       "      <th>4</th>\n",
       "      <td>2.063884</td>\n",
       "      <td>0.388871</td>\n",
       "      <td>2</td>\n",
       "      <td>0.785728</td>\n",
       "      <td>1</td>\n",
       "      <td>1</td>\n",
       "      <td>1</td>\n",
       "      <td>-0.365276</td>\n",
       "      <td>0</td>\n",
       "      <td>6</td>\n",
       "      <td>0</td>\n",
       "      <td>0</td>\n",
       "      <td>1</td>\n",
       "    </tr>\n",
       "  </tbody>\n",
       "</table>\n",
       "</div>"
      ],
      "text/plain": [
       "   CreditScore       Age  Tenure   Balance  NumOfProducts  HasCrCard  \\\n",
       "0    -0.326221  0.293517       2 -1.225848              1          1   \n",
       "1    -0.440036  0.198164       1  0.117350              1          0   \n",
       "2    -1.536794  0.293517       8  1.333053              3          1   \n",
       "3     0.501521  0.007457       1 -1.225848              2          0   \n",
       "4     2.063884  0.388871       2  0.785728              1          1   \n",
       "\n",
       "   IsActiveMember  EstimatedSalary  Exited NewCreditsScore  Gender_Male  \\\n",
       "0               1         0.021886       1               3            0   \n",
       "1               1         0.216534       0               2            0   \n",
       "2               0         0.240687       1               1            0   \n",
       "3               0        -0.108918       0               5            0   \n",
       "4               1        -0.365276       0               6            0   \n",
       "\n",
       "   Geography_Germany  Geography_Spain  \n",
       "0                  0                0  \n",
       "1                  0                1  \n",
       "2                  0                0  \n",
       "3                  0                0  \n",
       "4                  0                1  "
      ]
     },
     "execution_count": 23,
     "metadata": {},
     "output_type": "execute_result"
    }
   ],
   "source": [
    "data.head()"
   ]
  },
  {
   "cell_type": "markdown",
   "id": "e7752125",
   "metadata": {
    "papermill": {
     "duration": 0.01573,
     "end_time": "2023-07-05T14:26:56.935953",
     "exception": false,
     "start_time": "2023-07-05T14:26:56.920223",
     "status": "completed"
    },
    "tags": []
   },
   "source": [
    "# Scaling # "
   ]
  },
  {
   "cell_type": "markdown",
   "id": "a0b3b022",
   "metadata": {
    "papermill": {
     "duration": 0.015548,
     "end_time": "2023-07-05T14:26:56.967397",
     "exception": false,
     "start_time": "2023-07-05T14:26:56.951849",
     "status": "completed"
    },
    "tags": []
   },
   "source": [
    "The robust_scaler method is a function that performs scaling on numerical data using statistics that are robust to outliers. It aims to normalize the values of a given variable by subtracting the median and dividing by the interquartile range (IQR). The IQR is a measure of the spread of the data that is resistant to extreme values, making it suitable for handling datasets with outliers.\n",
    "\n",
    "The function takes a variable as input and calculates the median, first quartile (25th percentile), third quartile (75th percentile), and the corresponding IQR. It then checks the value of the IQR and performs the scaling operation accordingly. If the IQR is zero, indicating a low dispersion of values, the function adjusts the quartile values using different quantiles (0.01, 0.99, 0.05, and 0.95) to ensure a non-zero IQR.\n",
    "\n",
    "After determining the appropriate quartile values and IQR, the function applies the scaling formula (variable - median) / IQR to each value in the variable. The result is rounded to three decimal places and returned as the scaled variable."
   ]
  },
  {
   "cell_type": "code",
   "execution_count": 24,
   "id": "3c28489d",
   "metadata": {
    "execution": {
     "iopub.execute_input": "2023-07-05T14:26:57.001185Z",
     "iopub.status.busy": "2023-07-05T14:26:57.000574Z",
     "iopub.status.idle": "2023-07-05T14:26:57.006871Z",
     "shell.execute_reply": "2023-07-05T14:26:57.006129Z"
    },
    "papermill": {
     "duration": 0.025761,
     "end_time": "2023-07-05T14:26:57.008913",
     "exception": false,
     "start_time": "2023-07-05T14:26:56.983152",
     "status": "completed"
    },
    "tags": []
   },
   "outputs": [],
   "source": [
    "def robust_scaler(variable):\n",
    "    quartile1 = variable.quantile(0.25)\n",
    "    quartile3 = variable.quantile(0.75)\n",
    "    interquantile_range = quartile3 - quartile1\n",
    "\n",
    "    if interquantile_range == 0:\n",
    "        quartile1 = variable.quantile(0.01)\n",
    "        quartile3 = variable.quantile(0.99)\n",
    "        interquantile_range = quartile3 - quartile1\n",
    "    elif interquantile_range == 0:\n",
    "        quartile1 = variable.quantile(0.05)\n",
    "        quartile3 = variable.quantile(0.95)\n",
    "        interquantile_range = quartile3 - quartile1\n",
    "\n",
    "    z = (variable - variable.median()) / interquantile_range\n",
    "    \n",
    "    return round(z, 3)"
   ]
  },
  {
   "cell_type": "markdown",
   "id": "c03c99ef",
   "metadata": {
    "papermill": {
     "duration": 0.015628,
     "end_time": "2023-07-05T14:26:57.040431",
     "exception": false,
     "start_time": "2023-07-05T14:26:57.024803",
     "status": "completed"
    },
    "tags": []
   },
   "source": [
    "The code below identifies columns in the data DataFrame that have a low number of unique values or are not of object data type. It then applies the robust_scaler function to scale the remaining columns, effectively normalizing the numerical features."
   ]
  },
  {
   "cell_type": "code",
   "execution_count": 25,
   "id": "ad57c500",
   "metadata": {
    "execution": {
     "iopub.execute_input": "2023-07-05T14:26:57.074273Z",
     "iopub.status.busy": "2023-07-05T14:26:57.073631Z",
     "iopub.status.idle": "2023-07-05T14:26:57.110961Z",
     "shell.execute_reply": "2023-07-05T14:26:57.109819Z"
    },
    "papermill": {
     "duration": 0.056985,
     "end_time": "2023-07-05T14:26:57.113437",
     "exception": false,
     "start_time": "2023-07-05T14:26:57.056452",
     "status": "completed"
    },
    "tags": []
   },
   "outputs": [
    {
     "name": "stdout",
     "output_type": "stream",
     "text": [
      "['NumOfProducts', 'HasCrCard', 'IsActiveMember', 'Exited', 'NewCreditsScore', 'Gender_Male', 'Geography_Germany', 'Geography_Spain']\n",
      "['CreditScore', 'Age', 'Tenure', 'Balance', 'EstimatedSalary']\n"
     ]
    }
   ],
   "source": [
    "no_scale_cols = [col for col in data.columns if data[col].dtypes != 'O' and len(data[col].value_counts()) <= 10]\n",
    "print(no_scale_cols)\n",
    "\n",
    "need_scale_cols = [col for col in data.columns if col not in no_scale_cols]\n",
    "print(need_scale_cols)\n",
    "\n",
    "data[need_scale_cols] = data[need_scale_cols].apply(lambda x: robust_scaler(x))"
   ]
  },
  {
   "cell_type": "code",
   "execution_count": 26,
   "id": "7b89723a",
   "metadata": {
    "execution": {
     "iopub.execute_input": "2023-07-05T14:26:57.148282Z",
     "iopub.status.busy": "2023-07-05T14:26:57.147649Z",
     "iopub.status.idle": "2023-07-05T14:26:57.163432Z",
     "shell.execute_reply": "2023-07-05T14:26:57.162337Z"
    },
    "papermill": {
     "duration": 0.035547,
     "end_time": "2023-07-05T14:26:57.165584",
     "exception": false,
     "start_time": "2023-07-05T14:26:57.130037",
     "status": "completed"
    },
    "tags": []
   },
   "outputs": [
    {
     "data": {
      "text/html": [
       "<div>\n",
       "<style scoped>\n",
       "    .dataframe tbody tr th:only-of-type {\n",
       "        vertical-align: middle;\n",
       "    }\n",
       "\n",
       "    .dataframe tbody tr th {\n",
       "        vertical-align: top;\n",
       "    }\n",
       "\n",
       "    .dataframe thead th {\n",
       "        text-align: right;\n",
       "    }\n",
       "</style>\n",
       "<table border=\"1\" class=\"dataframe\">\n",
       "  <thead>\n",
       "    <tr style=\"text-align: right;\">\n",
       "      <th></th>\n",
       "      <th>CreditScore</th>\n",
       "      <th>Age</th>\n",
       "      <th>Tenure</th>\n",
       "      <th>Balance</th>\n",
       "      <th>NumOfProducts</th>\n",
       "      <th>HasCrCard</th>\n",
       "      <th>IsActiveMember</th>\n",
       "      <th>EstimatedSalary</th>\n",
       "      <th>Exited</th>\n",
       "      <th>NewCreditsScore</th>\n",
       "      <th>Gender_Male</th>\n",
       "      <th>Geography_Germany</th>\n",
       "      <th>Geography_Spain</th>\n",
       "    </tr>\n",
       "  </thead>\n",
       "  <tbody>\n",
       "    <tr>\n",
       "      <th>0</th>\n",
       "      <td>-0.246</td>\n",
       "      <td>0.417</td>\n",
       "      <td>-0.75</td>\n",
       "      <td>-0.761</td>\n",
       "      <td>1</td>\n",
       "      <td>1</td>\n",
       "      <td>1</td>\n",
       "      <td>0.012</td>\n",
       "      <td>1</td>\n",
       "      <td>3</td>\n",
       "      <td>0</td>\n",
       "      <td>0</td>\n",
       "      <td>0</td>\n",
       "    </tr>\n",
       "    <tr>\n",
       "      <th>1</th>\n",
       "      <td>-0.328</td>\n",
       "      <td>0.333</td>\n",
       "      <td>-1.00</td>\n",
       "      <td>-0.105</td>\n",
       "      <td>1</td>\n",
       "      <td>0</td>\n",
       "      <td>1</td>\n",
       "      <td>0.126</td>\n",
       "      <td>0</td>\n",
       "      <td>2</td>\n",
       "      <td>0</td>\n",
       "      <td>0</td>\n",
       "      <td>1</td>\n",
       "    </tr>\n",
       "    <tr>\n",
       "      <th>2</th>\n",
       "      <td>-1.119</td>\n",
       "      <td>0.417</td>\n",
       "      <td>0.75</td>\n",
       "      <td>0.489</td>\n",
       "      <td>3</td>\n",
       "      <td>1</td>\n",
       "      <td>0</td>\n",
       "      <td>0.140</td>\n",
       "      <td>1</td>\n",
       "      <td>1</td>\n",
       "      <td>0</td>\n",
       "      <td>0</td>\n",
       "      <td>0</td>\n",
       "    </tr>\n",
       "    <tr>\n",
       "      <th>3</th>\n",
       "      <td>0.351</td>\n",
       "      <td>0.167</td>\n",
       "      <td>-1.00</td>\n",
       "      <td>-0.761</td>\n",
       "      <td>2</td>\n",
       "      <td>0</td>\n",
       "      <td>0</td>\n",
       "      <td>-0.065</td>\n",
       "      <td>0</td>\n",
       "      <td>5</td>\n",
       "      <td>0</td>\n",
       "      <td>0</td>\n",
       "      <td>0</td>\n",
       "    </tr>\n",
       "    <tr>\n",
       "      <th>4</th>\n",
       "      <td>1.478</td>\n",
       "      <td>0.500</td>\n",
       "      <td>-0.75</td>\n",
       "      <td>0.222</td>\n",
       "      <td>1</td>\n",
       "      <td>1</td>\n",
       "      <td>1</td>\n",
       "      <td>-0.215</td>\n",
       "      <td>0</td>\n",
       "      <td>6</td>\n",
       "      <td>0</td>\n",
       "      <td>0</td>\n",
       "      <td>1</td>\n",
       "    </tr>\n",
       "  </tbody>\n",
       "</table>\n",
       "</div>"
      ],
      "text/plain": [
       "   CreditScore    Age  Tenure  Balance  NumOfProducts  HasCrCard  \\\n",
       "0       -0.246  0.417   -0.75   -0.761              1          1   \n",
       "1       -0.328  0.333   -1.00   -0.105              1          0   \n",
       "2       -1.119  0.417    0.75    0.489              3          1   \n",
       "3        0.351  0.167   -1.00   -0.761              2          0   \n",
       "4        1.478  0.500   -0.75    0.222              1          1   \n",
       "\n",
       "   IsActiveMember  EstimatedSalary  Exited NewCreditsScore  Gender_Male  \\\n",
       "0               1            0.012       1               3            0   \n",
       "1               1            0.126       0               2            0   \n",
       "2               0            0.140       1               1            0   \n",
       "3               0           -0.065       0               5            0   \n",
       "4               1           -0.215       0               6            0   \n",
       "\n",
       "   Geography_Germany  Geography_Spain  \n",
       "0                  0                0  \n",
       "1                  0                1  \n",
       "2                  0                0  \n",
       "3                  0                0  \n",
       "4                  0                1  "
      ]
     },
     "execution_count": 26,
     "metadata": {},
     "output_type": "execute_result"
    }
   ],
   "source": [
    "data.head()"
   ]
  },
  {
   "cell_type": "markdown",
   "id": "b6fe5afd",
   "metadata": {
    "papermill": {
     "duration": 0.015557,
     "end_time": "2023-07-05T14:26:57.197142",
     "exception": false,
     "start_time": "2023-07-05T14:26:57.181585",
     "status": "completed"
    },
    "tags": []
   },
   "source": [
    "# Modelling"
   ]
  },
  {
   "cell_type": "code",
   "execution_count": 27,
   "id": "36c5c1de",
   "metadata": {
    "execution": {
     "iopub.execute_input": "2023-07-05T14:26:57.230816Z",
     "iopub.status.busy": "2023-07-05T14:26:57.230201Z",
     "iopub.status.idle": "2023-07-05T14:26:58.809195Z",
     "shell.execute_reply": "2023-07-05T14:26:58.808141Z"
    },
    "papermill": {
     "duration": 1.598939,
     "end_time": "2023-07-05T14:26:58.811878",
     "exception": false,
     "start_time": "2023-07-05T14:26:57.212939",
     "status": "completed"
    },
    "tags": []
   },
   "outputs": [],
   "source": [
    "from sklearn.model_selection import train_test_split\n",
    "from sklearn.linear_model import LogisticRegression\n",
    "from sklearn.tree import DecisionTreeClassifier\n",
    "from sklearn.ensemble import RandomForestClassifier\n",
    "from sklearn.neighbors import KNeighborsClassifier\n",
    "from sklearn.svm import SVC\n",
    "from sklearn.ensemble import GradientBoostingClassifier\n",
    "from lightgbm import LGBMClassifier\n",
    "from sklearn.model_selection import cross_val_score\n",
    "from sklearn import metrics\n",
    "from sklearn.metrics import accuracy_score\n",
    "\n"
   ]
  },
  {
   "cell_type": "code",
   "execution_count": 28,
   "id": "f6f69faf",
   "metadata": {
    "execution": {
     "iopub.execute_input": "2023-07-05T14:26:58.846385Z",
     "iopub.status.busy": "2023-07-05T14:26:58.845723Z",
     "iopub.status.idle": "2023-07-05T14:26:58.855258Z",
     "shell.execute_reply": "2023-07-05T14:26:58.854101Z"
    },
    "papermill": {
     "duration": 0.029594,
     "end_time": "2023-07-05T14:26:58.857478",
     "exception": false,
     "start_time": "2023-07-05T14:26:58.827884",
     "status": "completed"
    },
    "tags": []
   },
   "outputs": [
    {
     "data": {
      "text/plain": [
       "CreditScore          0\n",
       "Age                  0\n",
       "Tenure               0\n",
       "Balance              0\n",
       "NumOfProducts        0\n",
       "HasCrCard            0\n",
       "IsActiveMember       0\n",
       "EstimatedSalary      0\n",
       "Exited               0\n",
       "NewCreditsScore      0\n",
       "Gender_Male          0\n",
       "Geography_Germany    0\n",
       "Geography_Spain      0\n",
       "dtype: int64"
      ]
     },
     "execution_count": 28,
     "metadata": {},
     "output_type": "execute_result"
    }
   ],
   "source": [
    "data.isnull().sum()"
   ]
  },
  {
   "cell_type": "code",
   "execution_count": 29,
   "id": "204003fe",
   "metadata": {
    "execution": {
     "iopub.execute_input": "2023-07-05T14:26:58.891559Z",
     "iopub.status.busy": "2023-07-05T14:26:58.890974Z",
     "iopub.status.idle": "2023-07-05T14:26:58.902370Z",
     "shell.execute_reply": "2023-07-05T14:26:58.901518Z"
    },
    "papermill": {
     "duration": 0.03112,
     "end_time": "2023-07-05T14:26:58.904635",
     "exception": false,
     "start_time": "2023-07-05T14:26:58.873515",
     "status": "completed"
    },
    "tags": []
   },
   "outputs": [],
   "source": [
    "X = data.drop(\"Exited\",axis=1)\n",
    "y = data[\"Exited\"]\n",
    "# Train-Test Separation\n",
    "X_train, X_test, y_train, y_test = train_test_split(X, y, test_size=0.20, random_state=12345)\n",
    "# Models for Classification\n",
    "models = [('LR', LogisticRegression(random_state=1000)),\n",
    "          ('DTC', DecisionTreeClassifier(random_state=7800)),\n",
    "          ('RFC', RandomForestClassifier(random_state=7800)),\n",
    "          ('KNN', KNeighborsClassifier()),\n",
    "          ('SVR', SVC(gamma='auto', random_state=1000)),\n",
    "          ('GB', GradientBoostingClassifier(random_state=1000)),\n",
    "          ('LightGBM', LGBMClassifier(random_state=1000))]\n",
    "\n"
   ]
  },
  {
   "cell_type": "code",
   "execution_count": 30,
   "id": "3445b983",
   "metadata": {
    "execution": {
     "iopub.execute_input": "2023-07-05T14:26:58.938734Z",
     "iopub.status.busy": "2023-07-05T14:26:58.938162Z",
     "iopub.status.idle": "2023-07-05T14:27:54.303423Z",
     "shell.execute_reply": "2023-07-05T14:27:54.302223Z"
    },
    "papermill": {
     "duration": 55.385536,
     "end_time": "2023-07-05T14:27:54.306114",
     "exception": false,
     "start_time": "2023-07-05T14:26:58.920578",
     "status": "completed"
    },
    "tags": []
   },
   "outputs": [
    {
     "name": "stdout",
     "output_type": "stream",
     "text": [
      "Model 1: LR\n",
      "Accuracy score: 0.8095\n",
      "Standard deviation: 0.0081\n",
      "\n",
      "Model 2: DTC\n",
      "Accuracy score: 0.7910\n",
      "Standard deviation: 0.0131\n",
      "\n",
      "Model 3: RFC\n",
      "Accuracy score: 0.8634\n",
      "Standard deviation: 0.0054\n",
      "\n",
      "Model 4: KNN\n",
      "Accuracy score: 0.8291\n",
      "Standard deviation: 0.0097\n",
      "\n",
      "Model 5: SVR\n",
      "Accuracy score: 0.8552\n",
      "Standard deviation: 0.0086\n",
      "\n",
      "Model 6: GB\n",
      "Accuracy score: 0.8652\n",
      "Standard deviation: 0.0084\n",
      "\n",
      "Model 7: LightGBM\n",
      "Accuracy score: 0.8632\n",
      "Standard deviation: 0.0078\n",
      "\n"
     ]
    }
   ],
   "source": [
    "for idx, (name, model) in enumerate(models):\n",
    "    cv_results = cross_val_score(model, X, y, cv=10, scoring='accuracy')\n",
    "    mean_score = cv_results.mean()\n",
    "    std_score = cv_results.std()\n",
    "    print(f\"Model {idx + 1}: {name}\")\n",
    "    print(f\"Accuracy score: {mean_score:.4f}\")\n",
    "    print(f\"Standard deviation: {std_score:.4f}\")\n",
    "    print()"
   ]
  },
  {
   "cell_type": "markdown",
   "id": "3465b7c4",
   "metadata": {
    "papermill": {
     "duration": 0.016476,
     "end_time": "2023-07-05T14:27:54.339619",
     "exception": false,
     "start_time": "2023-07-05T14:27:54.323143",
     "status": "completed"
    },
    "tags": []
   },
   "source": [
    "# Model Tuning for RFC, GB, LightGBM"
   ]
  },
  {
   "cell_type": "code",
   "execution_count": 31,
   "id": "df58965e",
   "metadata": {
    "execution": {
     "iopub.execute_input": "2023-07-05T14:27:54.376017Z",
     "iopub.status.busy": "2023-07-05T14:27:54.375624Z",
     "iopub.status.idle": "2023-07-05T14:32:47.693966Z",
     "shell.execute_reply": "2023-07-05T14:32:47.692508Z"
    },
    "papermill": {
     "duration": 293.349038,
     "end_time": "2023-07-05T14:32:47.705441",
     "exception": false,
     "start_time": "2023-07-05T14:27:54.356403",
     "status": "completed"
    },
    "tags": []
   },
   "outputs": [
    {
     "name": "stdout",
     "output_type": "stream",
     "text": [
      "Random Forest:\n",
      "Best Parameters: {'n_estimators': 200, 'min_samples_split': 5, 'max_depth': None}\n",
      "Best Score: 0.865625\n",
      "\n",
      "Gradient Boosting:\n",
      "Best Parameters: {'n_estimators': 200, 'max_depth': 3, 'learning_rate': 0.1}\n",
      "Best Score: 0.86625\n",
      "\n",
      "LightGBM:\n",
      "Best Parameters: {'n_estimators': 100, 'max_depth': 5, 'learning_rate': 0.1}\n",
      "Best Score: 0.866125\n",
      "\n"
     ]
    }
   ],
   "source": [
    "from sklearn.model_selection import RandomizedSearchCV\n",
    "\n",
    "# Define the models and their respective parameter grids\n",
    "models = {\n",
    "    'Random Forest': (RandomForestClassifier(random_state=1000), {\n",
    "        'n_estimators': [100, 200, 300],\n",
    "        'max_depth': [None, 5, 10],\n",
    "        'min_samples_split': [2, 5, 10]\n",
    "    }),\n",
    "    'Gradient Boosting': (GradientBoostingClassifier(random_state=1000), {\n",
    "        'learning_rate': [0.1, 0.2, 0.3],\n",
    "        'n_estimators': [100, 200, 300],\n",
    "        'max_depth': [3, 5, 7]\n",
    "    }),\n",
    "    'LightGBM': (LGBMClassifier(random_state=1000), {\n",
    "        'learning_rate': [0.1, 0.2, 0.3],\n",
    "        'n_estimators': [100, 200, 300],\n",
    "        'max_depth': [3, 5, 7]\n",
    "    })\n",
    "}\n",
    "\n",
    "# Perform randomized search for each model\n",
    "results = {}\n",
    "for model_name, (model, param_grid) in models.items():\n",
    "    random_search = RandomizedSearchCV(model, param_grid, cv=5, n_iter=10)\n",
    "    random_search.fit(X_train, y_train)\n",
    "    \n",
    "    # Store the best parameters and the corresponding score for the model\n",
    "    best_params = random_search.best_params_\n",
    "    best_score = random_search.best_score_\n",
    "    results[model_name] = {'Best Parameters': best_params, 'Best Score': best_score}\n",
    "\n",
    "# Print the results\n",
    "for model_name, result in results.items():\n",
    "    print(f\"{model_name}:\")\n",
    "    print(\"Best Parameters:\", result['Best Parameters'])\n",
    "    print(\"Best Score:\", result['Best Score'])\n",
    "    print()\n",
    "\n"
   ]
  },
  {
   "cell_type": "markdown",
   "id": "a9961358",
   "metadata": {
    "papermill": {
     "duration": 0.016552,
     "end_time": "2023-07-05T14:32:47.738616",
     "exception": false,
     "start_time": "2023-07-05T14:32:47.722064",
     "status": "completed"
    },
    "tags": []
   },
   "source": [
    "Note: We see that based on best score, the best model is Gradient Boosting"
   ]
  },
  {
   "cell_type": "code",
   "execution_count": 32,
   "id": "424fb6aa",
   "metadata": {
    "execution": {
     "iopub.execute_input": "2023-07-05T14:32:47.774795Z",
     "iopub.status.busy": "2023-07-05T14:32:47.774408Z",
     "iopub.status.idle": "2023-07-05T14:32:48.925129Z",
     "shell.execute_reply": "2023-07-05T14:32:48.924068Z"
    },
    "papermill": {
     "duration": 1.171042,
     "end_time": "2023-07-05T14:32:48.927590",
     "exception": false,
     "start_time": "2023-07-05T14:32:47.756548",
     "status": "completed"
    },
    "tags": []
   },
   "outputs": [],
   "source": [
    "# Train the GB_model with the best parameters on the entire training data\n",
    "gb_model = GradientBoostingClassifier()\n",
    "gb_params = {'n_estimators': 100, 'max_depth': 3, 'learning_rate': 0.1}\n",
    "gb_model.set_params(**gb_params)\n",
    "gb_model.fit(X_train, y_train)\n",
    "\n",
    "# Make predictions on the test data\n",
    "y_pred = gb_model.predict(X_test)\n"
   ]
  },
  {
   "cell_type": "code",
   "execution_count": 33,
   "id": "db9b6c95",
   "metadata": {
    "execution": {
     "iopub.execute_input": "2023-07-05T14:32:48.963079Z",
     "iopub.status.busy": "2023-07-05T14:32:48.962684Z",
     "iopub.status.idle": "2023-07-05T14:32:48.971001Z",
     "shell.execute_reply": "2023-07-05T14:32:48.969847Z"
    },
    "papermill": {
     "duration": 0.028564,
     "end_time": "2023-07-05T14:32:48.973271",
     "exception": false,
     "start_time": "2023-07-05T14:32:48.944707",
     "status": "completed"
    },
    "tags": []
   },
   "outputs": [
    {
     "name": "stdout",
     "output_type": "stream",
     "text": [
      "Accuracy of Gradient Boosting Model :  0.8575\n"
     ]
    }
   ],
   "source": [
    "from sklearn.metrics import recall_score\n",
    "from sklearn.metrics import precision_score\n",
    "from sklearn.metrics import f1_score\n",
    "\n",
    "# Evaluating the performance\n",
    "accuracy = accuracy_score(y_test, y_pred)\n",
    "\n",
    "print(\"Accuracy of Gradient Boosting Model : \", accuracy)"
   ]
  },
  {
   "cell_type": "code",
   "execution_count": 34,
   "id": "f1cab4f3",
   "metadata": {
    "execution": {
     "iopub.execute_input": "2023-07-05T14:32:49.009550Z",
     "iopub.status.busy": "2023-07-05T14:32:49.008820Z",
     "iopub.status.idle": "2023-07-05T14:32:49.293824Z",
     "shell.execute_reply": "2023-07-05T14:32:49.292666Z"
    },
    "papermill": {
     "duration": 0.306065,
     "end_time": "2023-07-05T14:32:49.296507",
     "exception": false,
     "start_time": "2023-07-05T14:32:48.990442",
     "status": "completed"
    },
    "tags": []
   },
   "outputs": [
    {
     "data": {
      "image/png": "[encoded data removed]",
      "text/plain": [
       "<Figure size 800x600 with 2 Axes>"
      ]
     },
     "metadata": {},
     "output_type": "display_data"
    }
   ],
   "source": [
    "from sklearn.metrics import confusion_matrix\n",
    "# Create a confusion matrix\n",
    "cm = confusion_matrix(y_test, y_pred)\n",
    "\n",
    "# Plot the confusion matrix\n",
    "plt.figure(figsize=(8, 6))\n",
    "sns.heatmap(cm, annot=True, cmap='Blues', fmt='d')\n",
    "plt.title('Confusion Matrix for GB Model')\n",
    "plt.xlabel('Predicted Labels')\n",
    "plt.ylabel('True Labels')\n",
    "plt.show()\n"
   ]
  },
  {
   "cell_type": "markdown",
   "id": "e72dd3d3",
   "metadata": {
    "papermill": {
     "duration": 0.01873,
     "end_time": "2023-07-05T14:32:49.333704",
     "exception": false,
     "start_time": "2023-07-05T14:32:49.314974",
     "status": "completed"
    },
    "tags": []
   },
   "source": [
    "# Conclusion: \n",
    "\n",
    "The Gradient Bossting Model gives 85.75% accuracy. From the confusion matrix, it can be seen that there are 234 instances of false negatives which causes are model to only have 85.75% accuracy. Additional feature scaling and model tuning is required to improve the performance"
   ]
  }
 ],
 "metadata": {
  "kernelspec": {
   "display_name": "Python 3",
   "language": "python",
   "name": "python3"
  },
  "language_info": {
   "codemirror_mode": {
    "name": "ipython",
    "version": 3
   },
   "file_extension": ".py",
   "mimetype": "text/x-python",
   "name": "python",
   "nbconvert_exporter": "python",
   "pygments_lexer": "ipython3",
   "version": "3.10.10"
  },
  "papermill": {
   "default_parameters": {},
   "duration": 369.237056,
   "end_time": "2023-07-05T14:32:50.575945",
   "environment_variables": {},
   "exception": null,
   "input_path": "__notebook__.ipynb",
   "output_path": "__notebook__.ipynb",
   "parameters": {},
   "start_time": "2023-07-05T14:26:41.338889",
   "version": "2.4.0"
  }
 },
 "nbformat": 4,
 "nbformat_minor": 5
}
